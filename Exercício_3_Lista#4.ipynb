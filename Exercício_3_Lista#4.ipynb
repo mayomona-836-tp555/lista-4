{
 "cells": [
  {
   "cell_type": "code",
   "execution_count": 1,
   "metadata": {},
   "outputs": [],
   "source": [
    "import numpy as np\n",
    "import cmath\n",
    "import scipy as sp\n",
    "from scipy.special import erfc\n",
    "from sklearn.naive_bayes import GaussianNB\n",
    "import matplotlib.pyplot as plt"
   ]
  },
  {
   "cell_type": "code",
   "execution_count": 2,
   "metadata": {},
   "outputs": [],
   "source": [
    "X = np.array([[1.83,81.65,30.48],\n",
    "[1.80,86.18,27.94],\n",
    "[1.70,77.11,30.48],\n",
    "[1.80,74.84,25.40],\n",
    "[1.52,45.36,15.24],\n",
    "[1.68,68.04,20.32],\n",
    "[1.65,58.97,17.78],\n",
    "[1.75,68.04,22.86]])\n",
    "\n",
    "y = np.array(['masculino','masculino','masculino','masculino','feminino','feminino','feminino','feminino'])"
   ]
  },
  {
   "cell_type": "code",
   "execution_count": 3,
   "metadata": {},
   "outputs": [
    {
     "name": "stdout",
     "output_type": "stream",
     "text": [
      "Resposta: sexo feminino\n"
     ]
    }
   ],
   "source": [
    "gnb = GaussianNB()\n",
    "\n",
    "gnb.fit(X, y)\n",
    "\n",
    "print('Resposta: sexo %s' % gnb.predict([[1.83,58.97,20.32]])[0])"
   ]
  },
  {
   "cell_type": "code",
   "execution_count": 4,
   "metadata": {},
   "outputs": [
    {
     "name": "stdout",
     "output_type": "stream",
     "text": [
      "[[9.99999851e-01 1.48534481e-07]]\n"
     ]
    }
   ],
   "source": [
    "print(gnb.predict_proba([[1.83,58.97,20.32]]) )"
   ]
  },
  {
   "cell_type": "code",
   "execution_count": 5,
   "metadata": {},
   "outputs": [
    {
     "ename": "NameError",
     "evalue": "name 'P_mas' is not defined",
     "output_type": "error",
     "traceback": [
      "\u001b[1;31m---------------------------------------------------------------------------\u001b[0m",
      "\u001b[1;31mNameError\u001b[0m                                 Traceback (most recent call last)",
      "\u001b[1;32m<ipython-input-5-f16ed0210dc8>\u001b[0m in \u001b[0;36m<module>\u001b[1;34m\u001b[0m\n\u001b[0;32m      2\u001b[0m \u001b[0mstd_altura_mas\u001b[0m \u001b[1;33m=\u001b[0m \u001b[1;33m(\u001b[0m\u001b[0mX\u001b[0m\u001b[1;33m[\u001b[0m\u001b[1;36m0\u001b[0m\u001b[1;33m:\u001b[0m\u001b[1;36m3\u001b[0m\u001b[1;33m+\u001b[0m\u001b[1;36m1\u001b[0m\u001b[1;33m,\u001b[0m\u001b[1;36m0\u001b[0m\u001b[1;33m]\u001b[0m\u001b[1;33m.\u001b[0m\u001b[0mstd\u001b[0m\u001b[1;33m(\u001b[0m\u001b[1;33m)\u001b[0m\u001b[1;33m)\u001b[0m\u001b[1;33m\u001b[0m\u001b[1;33m\u001b[0m\u001b[0m\n\u001b[0;32m      3\u001b[0m \u001b[0mP_altura_mas\u001b[0m \u001b[1;33m=\u001b[0m \u001b[0msp\u001b[0m\u001b[1;33m.\u001b[0m\u001b[0mstats\u001b[0m\u001b[1;33m.\u001b[0m\u001b[0mnorm\u001b[0m\u001b[1;33m.\u001b[0m\u001b[0mpdf\u001b[0m\u001b[1;33m(\u001b[0m\u001b[1;36m1.83\u001b[0m\u001b[1;33m,\u001b[0m \u001b[0mmu_altura_mas\u001b[0m\u001b[1;33m,\u001b[0m \u001b[0mstd_altura_mas\u001b[0m\u001b[1;33m)\u001b[0m\u001b[1;33m\u001b[0m\u001b[1;33m\u001b[0m\u001b[0m\n\u001b[1;32m----> 4\u001b[1;33m \u001b[0mP_altura_mas_X_P_mas\u001b[0m \u001b[1;33m=\u001b[0m \u001b[0mP_altura_mas\u001b[0m\u001b[1;33m*\u001b[0m\u001b[0mP_mas\u001b[0m\u001b[1;33m\u001b[0m\u001b[1;33m\u001b[0m\u001b[0m\n\u001b[0m\u001b[0;32m      5\u001b[0m \u001b[1;33m\u001b[0m\u001b[0m\n\u001b[0;32m      6\u001b[0m \u001b[0mmu_peso_mas\u001b[0m \u001b[1;33m=\u001b[0m \u001b[1;33m(\u001b[0m\u001b[0mX\u001b[0m\u001b[1;33m[\u001b[0m\u001b[1;36m0\u001b[0m\u001b[1;33m:\u001b[0m\u001b[1;36m3\u001b[0m\u001b[1;33m+\u001b[0m\u001b[1;36m1\u001b[0m\u001b[1;33m,\u001b[0m\u001b[1;36m1\u001b[0m\u001b[1;33m]\u001b[0m\u001b[1;33m.\u001b[0m\u001b[0mmean\u001b[0m\u001b[1;33m(\u001b[0m\u001b[1;33m)\u001b[0m\u001b[1;33m)\u001b[0m\u001b[1;33m\u001b[0m\u001b[1;33m\u001b[0m\u001b[0m\n",
      "\u001b[1;31mNameError\u001b[0m: name 'P_mas' is not defined"
     ]
    }
   ],
   "source": [
    "mu_altura_mas = (X[0:3+1,0].mean())\n",
    "std_altura_mas = (X[0:3+1,0].std())\n",
    "P_altura_mas = sp.stats.norm.pdf(1.83, mu_altura_mas, std_altura_mas)\n",
    "P_altura_mas_X_P_mas = P_altura_mas*P_mas\n",
    "\n",
    "mu_peso_mas = (X[0:3+1,1].mean())\n",
    "std_peso_mas = (X[0:3+1,1].std())\n",
    "P_peso_mas = sp.stats.norm.pdf(58.97, mu_peso_mas, std_peso_mas)\n",
    "P_peso_mas_X_P_mas = P_peso_mas*P_mas\n",
    "\n",
    "mu_tam_mas = (X[0:3+1,2].mean())\n",
    "std_tam_mas = (X[0:3+1,2].std())\n",
    "P_atm_mas = sp.stats.norm.pdf(20.32, mu_tam_mas, std_tam_mas)\n",
    "P_atm_mas_X_P_mas = P_atm_mas*P_mas"
   ]
  },
  {
   "cell_type": "code",
   "execution_count": 6,
   "metadata": {},
   "outputs": [
    {
     "ename": "NameError",
     "evalue": "name 'P_fem' is not defined",
     "output_type": "error",
     "traceback": [
      "\u001b[1;31m---------------------------------------------------------------------------\u001b[0m",
      "\u001b[1;31mNameError\u001b[0m                                 Traceback (most recent call last)",
      "\u001b[1;32m<ipython-input-6-bd043d8f5fde>\u001b[0m in \u001b[0;36m<module>\u001b[1;34m\u001b[0m\n\u001b[0;32m      4\u001b[0m \u001b[0mP_altura_fem\u001b[0m \u001b[1;33m=\u001b[0m \u001b[0msp\u001b[0m\u001b[1;33m.\u001b[0m\u001b[0mstats\u001b[0m\u001b[1;33m.\u001b[0m\u001b[0mnorm\u001b[0m\u001b[1;33m.\u001b[0m\u001b[0mpdf\u001b[0m\u001b[1;33m(\u001b[0m\u001b[1;36m1.83\u001b[0m\u001b[1;33m,\u001b[0m \u001b[0mmu_altura_fem\u001b[0m\u001b[1;33m,\u001b[0m \u001b[0mstd_altura_fem\u001b[0m\u001b[1;33m)\u001b[0m\u001b[1;33m\u001b[0m\u001b[1;33m\u001b[0m\u001b[0m\n\u001b[0;32m      5\u001b[0m \u001b[1;33m\u001b[0m\u001b[0m\n\u001b[1;32m----> 6\u001b[1;33m \u001b[0mP_altura_fem_X_P_fem\u001b[0m \u001b[1;33m=\u001b[0m \u001b[0mP_altura_fem\u001b[0m\u001b[1;33m*\u001b[0m\u001b[0mP_fem\u001b[0m\u001b[1;33m\u001b[0m\u001b[1;33m\u001b[0m\u001b[0m\n\u001b[0m\u001b[0;32m      7\u001b[0m \u001b[1;33m\u001b[0m\u001b[0m\n\u001b[0;32m      8\u001b[0m \u001b[0mmu_peso_fem\u001b[0m \u001b[1;33m=\u001b[0m \u001b[1;33m(\u001b[0m\u001b[0mX\u001b[0m\u001b[1;33m[\u001b[0m\u001b[1;36m4\u001b[0m\u001b[1;33m:\u001b[0m\u001b[1;36m4\u001b[0m\u001b[1;33m+\u001b[0m\u001b[1;36m3\u001b[0m\u001b[1;33m+\u001b[0m\u001b[1;36m1\u001b[0m\u001b[1;33m,\u001b[0m\u001b[1;36m1\u001b[0m\u001b[1;33m]\u001b[0m\u001b[1;33m.\u001b[0m\u001b[0mmean\u001b[0m\u001b[1;33m(\u001b[0m\u001b[1;33m)\u001b[0m\u001b[1;33m)\u001b[0m\u001b[1;33m\u001b[0m\u001b[1;33m\u001b[0m\u001b[0m\n",
      "\u001b[1;31mNameError\u001b[0m: name 'P_fem' is not defined"
     ]
    }
   ],
   "source": [
    "mu_altura_fem = (X[4:4+3+1,0].mean())\n",
    "std_altura_fem = (X[4:4+3+1,0].std())\n",
    "\n",
    "P_altura_fem = sp.stats.norm.pdf(1.83, mu_altura_fem, std_altura_fem)\n",
    "\n",
    "P_altura_fem_X_P_fem = P_altura_fem*P_fem\n",
    "\n",
    "mu_peso_fem = (X[4:4+3+1,1].mean())\n",
    "std_peso_fem = (X[4:4+3+1,1].std())\n",
    "\n",
    "P_peso_fem = sp.stats.norm.pdf(58.97, mu_peso_fem, std_peso_fem)\n",
    "\n",
    "P_peso_fem_X_P_fem = P_peso_fem*P_fem\n",
    "\n",
    "mu_tam_fem = (X[4:4+3+1,2].mean())\n",
    "std_tam_fem = (X[4:4+3+1,2].std())\n",
    "\n",
    "P_atm_fem = sp.stats.norm.pdf(20.32, mu_tam_fem, std_tam_fem)\n",
    "\n",
    "P_atm_fem_X_P_fem = P_atm_fem*P_fem"
   ]
  },
  {
   "cell_type": "code",
   "execution_count": 7,
   "metadata": {},
   "outputs": [
    {
     "ename": "NameError",
     "evalue": "name 'P_altura_mas_X_P_mas' is not defined",
     "output_type": "error",
     "traceback": [
      "\u001b[1;31m---------------------------------------------------------------------------\u001b[0m",
      "\u001b[1;31mNameError\u001b[0m                                 Traceback (most recent call last)",
      "\u001b[1;32m<ipython-input-7-a04d142c71c8>\u001b[0m in \u001b[0;36m<module>\u001b[1;34m\u001b[0m\n\u001b[1;32m----> 1\u001b[1;33m \u001b[0mP_alt\u001b[0m \u001b[1;33m=\u001b[0m \u001b[0mP_altura_mas_X_P_mas\u001b[0m \u001b[1;33m+\u001b[0m \u001b[0mP_altura_fem_X_P_fem\u001b[0m\u001b[1;33m\u001b[0m\u001b[1;33m\u001b[0m\u001b[0m\n\u001b[0m\u001b[0;32m      2\u001b[0m \u001b[0mP_peso\u001b[0m \u001b[1;33m=\u001b[0m \u001b[0mP_peso_mas_X_P_mas\u001b[0m \u001b[1;33m+\u001b[0m \u001b[0mP_peso_fem_X_P_fem\u001b[0m\u001b[1;33m\u001b[0m\u001b[1;33m\u001b[0m\u001b[0m\n\u001b[0;32m      3\u001b[0m \u001b[0mP_tam\u001b[0m \u001b[1;33m=\u001b[0m \u001b[0mP_atm_mas_X_P_mas\u001b[0m \u001b[1;33m+\u001b[0m \u001b[0mP_atm_fem_X_P_fem\u001b[0m\u001b[1;33m\u001b[0m\u001b[1;33m\u001b[0m\u001b[0m\n",
      "\u001b[1;31mNameError\u001b[0m: name 'P_altura_mas_X_P_mas' is not defined"
     ]
    }
   ],
   "source": [
    "P_alt = P_altura_mas_X_P_mas + P_altura_fem_X_P_fem\n",
    "P_peso = P_peso_mas_X_P_mas + P_peso_fem_X_P_fem\n",
    "P_tam = P_atm_mas_X_P_mas + P_atm_fem_X_P_fem"
   ]
  },
  {
   "cell_type": "code",
   "execution_count": 8,
   "metadata": {},
   "outputs": [
    {
     "ename": "NameError",
     "evalue": "name 'P_peso_mas' is not defined",
     "output_type": "error",
     "traceback": [
      "\u001b[1;31m---------------------------------------------------------------------------\u001b[0m",
      "\u001b[1;31mNameError\u001b[0m                                 Traceback (most recent call last)",
      "\u001b[1;32m<ipython-input-8-59fdb6b20582>\u001b[0m in \u001b[0;36m<module>\u001b[1;34m\u001b[0m\n\u001b[1;32m----> 1\u001b[1;33m \u001b[0mprint\u001b[0m\u001b[1;33m(\u001b[0m\u001b[1;33m(\u001b[0m\u001b[0mP_altura_mas\u001b[0m\u001b[1;33m*\u001b[0m\u001b[0mP_peso_mas\u001b[0m\u001b[1;33m*\u001b[0m\u001b[0mP_atm_mas\u001b[0m\u001b[1;33m*\u001b[0m\u001b[0mP_mas\u001b[0m\u001b[1;33m)\u001b[0m\u001b[1;33m/\u001b[0m\u001b[1;33m(\u001b[0m\u001b[0mP_alt\u001b[0m\u001b[1;33m*\u001b[0m\u001b[0mP_peso\u001b[0m\u001b[1;33m*\u001b[0m\u001b[0mP_tam\u001b[0m\u001b[1;33m)\u001b[0m\u001b[1;33m)\u001b[0m\u001b[1;33m\u001b[0m\u001b[1;33m\u001b[0m\u001b[0m\n\u001b[0m",
      "\u001b[1;31mNameError\u001b[0m: name 'P_peso_mas' is not defined"
     ]
    }
   ],
   "source": [
    "print((P_altura_mas*P_peso_mas*P_atm_mas*P_mas)/(P_alt*P_peso*P_tam))"
   ]
  },
  {
   "cell_type": "code",
   "execution_count": 9,
   "metadata": {},
   "outputs": [
    {
     "ename": "NameError",
     "evalue": "name 'P_peso_fem' is not defined",
     "output_type": "error",
     "traceback": [
      "\u001b[1;31m---------------------------------------------------------------------------\u001b[0m",
      "\u001b[1;31mNameError\u001b[0m                                 Traceback (most recent call last)",
      "\u001b[1;32m<ipython-input-9-e32f1e13bfd8>\u001b[0m in \u001b[0;36m<module>\u001b[1;34m\u001b[0m\n\u001b[1;32m----> 1\u001b[1;33m \u001b[0mprint\u001b[0m\u001b[1;33m(\u001b[0m\u001b[1;33m(\u001b[0m\u001b[0mP_altura_fem\u001b[0m\u001b[1;33m*\u001b[0m\u001b[0mP_peso_fem\u001b[0m\u001b[1;33m*\u001b[0m\u001b[0mP_atm_fem\u001b[0m\u001b[1;33m*\u001b[0m\u001b[0mP_fem\u001b[0m\u001b[1;33m)\u001b[0m\u001b[1;33m/\u001b[0m\u001b[1;33m(\u001b[0m\u001b[0mP_alt\u001b[0m\u001b[1;33m*\u001b[0m\u001b[0mP_peso\u001b[0m\u001b[1;33m*\u001b[0m\u001b[0mP_tam\u001b[0m\u001b[1;33m)\u001b[0m\u001b[1;33m)\u001b[0m\u001b[1;33m\u001b[0m\u001b[1;33m\u001b[0m\u001b[0m\n\u001b[0m",
      "\u001b[1;31mNameError\u001b[0m: name 'P_peso_fem' is not defined"
     ]
    }
   ],
   "source": [
    "print((P_altura_fem*P_peso_fem*P_atm_fem*P_fem)/(P_alt*P_peso*P_tam))"
   ]
  },
  {
   "cell_type": "code",
   "execution_count": null,
   "metadata": {},
   "outputs": [],
   "source": []
  }
 ],
 "metadata": {
  "kernelspec": {
   "display_name": "Python 3",
   "language": "python",
   "name": "python3"
  },
  "language_info": {
   "codemirror_mode": {
    "name": "ipython",
    "version": 3
   },
   "file_extension": ".py",
   "mimetype": "text/x-python",
   "name": "python",
   "nbconvert_exporter": "python",
   "pygments_lexer": "ipython3",
   "version": "3.7.6"
  }
 },
 "nbformat": 4,
 "nbformat_minor": 4
}
