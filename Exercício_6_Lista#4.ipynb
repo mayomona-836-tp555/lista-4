{
 "cells": [
  {
   "cell_type": "code",
   "execution_count": 1,
   "metadata": {},
   "outputs": [],
   "source": [
    "import pandas as pd\n",
    "import numpy as np\n",
    "from sklearn.naive_bayes import BernoulliNB\n",
    "from sklearn.feature_extraction.text import CountVectorizer\n",
    "from sklearn.model_selection import train_test_split\n",
    "from sklearn import metrics\n",
    "from sklearn.metrics import confusion_matrix\n",
    "from sklearn.metrics import accuracy_score, roc_curve, auc\n",
    "import seaborn as sns\n",
    "import matplotlib.pyplot as plt"
   ]
  },
  {
   "cell_type": "code",
   "execution_count": 2,
   "metadata": {},
   "outputs": [],
   "source": [
    "x_train = np.array(['free great offer if you join, a great offer for free!',\n",
    "          'great offer for free delivery',\n",
    "          'uber is promoting a great offer for free',\n",
    "          'try uber for free for your 1st ride',\n",
    "          'earn your uber 10 credit for free by applying for the uber visa credit card',\n",
    "          'uber receipt'])\n",
    "y_train = np.array(['spam','spam','spam','ham','ham','ham'])\n",
    "\n",
    "x_test = np.array(['Moonnight Trial', 'Limited offer: Free & Great Deal'])\n",
    "vect = CountVectorizer(binary=True)\n",
    "x_train_dtm = vect.fit_transform(x_train)\n",
    "x_test_dtm = vect.transform(x_test)\n",
    "model = BernoulliNB(binarize=None)\n",
    "model.fit(x_train_dtm, y_train)\n",
    "\n",
    "y_pred_class = model.predict(x_test_dtm)"
   ]
  },
  {
   "cell_type": "code",
   "execution_count": 3,
   "metadata": {},
   "outputs": [
    {
     "name": "stdout",
     "output_type": "stream",
     "text": [
      "['ham' 'spam']\n"
     ]
    }
   ],
   "source": [
    "print(y_pred_class)"
   ]
  },
  {
   "cell_type": "code",
   "execution_count": 4,
   "metadata": {},
   "outputs": [
    {
     "name": "stdout",
     "output_type": "stream",
     "text": [
      "[[0.65498652 0.34501348]\n",
      " [0.0027732  0.9972268 ]]\n"
     ]
    }
   ],
   "source": [
    "print(model.predict_proba(x_test_dtm))"
   ]
  },
  {
   "cell_type": "code",
   "execution_count": null,
   "metadata": {},
   "outputs": [],
   "source": []
  }
 ],
 "metadata": {
  "kernelspec": {
   "display_name": "Python 3",
   "language": "python",
   "name": "python3"
  },
  "language_info": {
   "codemirror_mode": {
    "name": "ipython",
    "version": 3
   },
   "file_extension": ".py",
   "mimetype": "text/x-python",
   "name": "python",
   "nbconvert_exporter": "python",
   "pygments_lexer": "ipython3",
   "version": "3.7.6"
  }
 },
 "nbformat": 4,
 "nbformat_minor": 4
}
