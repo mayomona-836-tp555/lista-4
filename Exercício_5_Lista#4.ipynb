{
 "cells": [
  {
   "cell_type": "code",
   "execution_count": 1,
   "metadata": {},
   "outputs": [],
   "source": [
    "import matplotlib.pyplot as plt\n",
    "from sklearn.datasets import fetch_20newsgroups\n",
    "from sklearn.naive_bayes import MultinomialNB\n",
    "from sklearn.feature_extraction.text import CountVectorizer\n",
    "from sklearn.pipeline import make_pipeline\n",
    "from sklearn.metrics import confusion_matrix\n",
    "from sklearn import metrics\n",
    "from sklearn.metrics import classification_report \n",
    "import seaborn as sns"
   ]
  },
  {
   "cell_type": "code",
   "execution_count": 4,
   "metadata": {},
   "outputs": [],
   "source": [
    "categories = ['comp.windows.x', 'comp.os.ms-windows.misc', 'misc.forsale', 'rec.autos']\n",
    "train = fetch_20newsgroups(subset='train', categories=categories)\n",
    "test = fetch_20newsgroups(subset='test', categories=categories)"
   ]
  },
  {
   "cell_type": "code",
   "execution_count": 5,
   "metadata": {},
   "outputs": [],
   "source": [
    "cv = CountVectorizer()\n",
    "mnb = MultinomialNB()\n",
    "model = make_pipeline(cv, mnb)\n",
    "model.fit(train.data, train.target)\n",
    "labels = model.predict(test.data)"
   ]
  },
  {
   "cell_type": "code",
   "execution_count": 6,
   "metadata": {},
   "outputs": [
    {
     "name": "stdout",
     "output_type": "stream",
     "text": [
      "comp.os.ms-windows.misc: 0\n",
      "comp.windows.x: 1\n",
      "misc.forsale: 2\n",
      "rec.autos: 3\n"
     ]
    }
   ],
   "source": [
    "for i in range(0,4):\n",
    "    print('%s: %d' % (train.target_names[i], i))"
   ]
  },
  {
   "cell_type": "code",
   "execution_count": 7,
   "metadata": {},
   "outputs": [
    {
     "name": "stdout",
     "output_type": "stream",
     "text": [
      "              precision    recall  f1-score   support\n",
      "\n",
      "           0       0.71      0.01      0.02       394\n",
      "           1       0.54      0.97      0.69       395\n",
      "           2       0.92      0.89      0.91       390\n",
      "           3       0.81      0.98      0.89       396\n",
      "\n",
      "    accuracy                           0.71      1575\n",
      "   macro avg       0.75      0.71      0.63      1575\n",
      "weighted avg       0.75      0.71      0.63      1575\n",
      "\n"
     ]
    }
   ],
   "source": [
    "print(classification_report(test.target, labels) )"
   ]
  },
  {
   "cell_type": "code",
   "execution_count": null,
   "metadata": {},
   "outputs": [],
   "source": [
    "fig = plt.figure(figsize=(7,7))\n",
    "mat = confusion_matrix(test.target, labels)\n",
    "sns.set(font_scale=1.8)\n",
    "sns.heatmap(mat.T, square=True, annot=True, fmt='d', cbar=False, xticklabels=train.target_names, yticklabels=train.target_names, cmap=\"Blues\")\n",
    "plt.xlabel('True label', fontsize=24)\n",
    "plt.ylabel('Predicted label', fontsize=24)\n",
    "plt.show()"
   ]
  },
  {
   "cell_type": "code",
   "execution_count": null,
   "metadata": {},
   "outputs": [],
   "source": [
    "import numpy as np\n",
    "\n",
    "class_cnt = np.zeros((4))\n",
    "for i in range(0,len(train.target)):\n",
    "    class_cnt[train.target[i]]=class_cnt[train.target[i]]+1\n",
    "\n",
    "for i in range(0,4):\n",
    "    print('%s: %d' % (train.target_names[i], class_cnt[i]))"
   ]
  },
  {
   "cell_type": "code",
   "execution_count": null,
   "metadata": {},
   "outputs": [],
   "source": [
    "cnt = 0\n",
    "classnum = 2\n",
    "print(train.target_names[classnum])\n",
    "for i in range(0,len(test.target)):\n",
    "    if(test.target[i]==classnum):\n",
    "        label = model.predict([test.data[i]])\n",
    "        if(label[0] == 3):\n",
    "            if(cnt < 1):\n",
    "                print(test.data[i])\n",
    "            cnt = cnt + 1\n",
    "print(cnt)"
   ]
  },
  {
   "cell_type": "code",
   "execution_count": null,
   "metadata": {},
   "outputs": [],
   "source": [
    "metrics.accuracy_score(test.target, labels)\n",
    "model.score(train.data, train.target)\n",
    "model.score(test.data, test.target)\n",
    "prob = model.predict_proba(test.data)[:, 1]\n",
    "print(prob)"
   ]
  },
  {
   "cell_type": "code",
   "execution_count": null,
   "metadata": {},
   "outputs": [],
   "source": [
    "class Object(object):\n",
    "    pass\n",
    "\n",
    "train_aux = Object()\n",
    "train_aux.data = []\n",
    "train_aux.target = []\n",
    "train_aux.filenames =[]\n",
    "train_aux.target_names =[]\n",
    "cnt = 0\n",
    "for i in range(0,len(train.target)):\n",
    "    if(train.target[i]==0 and cnt < 300):\n",
    "        train_aux.data.append(train.data[i])\n",
    "        train_aux.target.append(train.target[i])\n",
    "        train_aux.filenames.append(train.filenames[i])\n",
    "        cnt = cnt + 1\n",
    "    elif(train.target[i]!=0):\n",
    "        train_aux.data.append(train.data[i])\n",
    "        train_aux.target.append(train.target[i])\n",
    "        train_aux.filenames.append(train.filenames[i])\n",
    "\n",
    "train_aux.target_names = train.target_names\n",
    "train = train_aux\n",
    "\n",
    "print(cnt)"
   ]
  },
  {
   "cell_type": "code",
   "execution_count": null,
   "metadata": {},
   "outputs": [],
   "source": [
    "cv = CountVectorizer()\n",
    "\n",
    "mnb = MultinomialNB()\n",
    "\n",
    "model = make_pipeline(cv, mnb)\n",
    "model.fit(train.data, train.target)\n",
    "labels = model.predict(test.data)"
   ]
  },
  {
   "cell_type": "code",
   "execution_count": null,
   "metadata": {},
   "outputs": [],
   "source": [
    "fig = plt.figure(figsize=(7,7))\n",
    "mat = confusion_matrix(test.target, labels)\n",
    "sns.set(font_scale=1.8)\n",
    "sns.heatmap(mat.T, square=True, annot=True, fmt='d', cbar=False, xticklabels=train.target_names, yticklabels=train.target_names, cmap=\"Blues\")\n",
    "plt.xlabel('True label', fontsize=24)\n",
    "plt.ylabel('Predicted label', fontsize=24)\n",
    "plt.show()"
   ]
  },
  {
   "cell_type": "code",
   "execution_count": null,
   "metadata": {},
   "outputs": [],
   "source": [
    "import numpy as np\n",
    "\n",
    "class_cnt = np.zeros((4))\n",
    "for i in range(0,len(train.target)):\n",
    "    class_cnt[train.target[i]]=class_cnt[train.target[i]]+1\n",
    "\n",
    "for i in range(0,4):\n",
    "    print('%s: %d' % (train.target_names[i], class_cnt[i]))"
   ]
  },
  {
   "cell_type": "code",
   "execution_count": null,
   "metadata": {},
   "outputs": [],
   "source": []
  }
 ],
 "metadata": {
  "kernelspec": {
   "display_name": "Python 3",
   "language": "python",
   "name": "python3"
  },
  "language_info": {
   "codemirror_mode": {
    "name": "ipython",
    "version": 3
   },
   "file_extension": ".py",
   "mimetype": "text/x-python",
   "name": "python",
   "nbconvert_exporter": "python",
   "pygments_lexer": "ipython3",
   "version": "3.7.6"
  }
 },
 "nbformat": 4,
 "nbformat_minor": 4
}
